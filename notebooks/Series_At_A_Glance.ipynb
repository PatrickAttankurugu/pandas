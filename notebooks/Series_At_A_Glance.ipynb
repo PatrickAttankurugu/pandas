{
  "nbformat": 4,
  "nbformat_minor": 0,
  "metadata": {
    "colab": {
      "name": "Series At A Glance",
      "provenance": [],
      "authorship_tag": "ABX9TyMslJ9qWyp30B5vTJ3739j4",
      "include_colab_link": true
    },
    "kernelspec": {
      "name": "python3",
      "display_name": "Python 3"
    },
    "language_info": {
      "name": "python"
    }
  },
  "cells": [
    {
      "cell_type": "markdown",
      "metadata": {
        "id": "view-in-github",
        "colab_type": "text"
      },
      "source": [
        "<a href=\"https://colab.research.google.com/github/PatrickAttankurugu/pandas/blob/main/notebooks/Series_At_A_Glance.ipynb\" target=\"_parent\"><img src=\"https://colab.research.google.com/assets/colab-badge.svg\" alt=\"Open In Colab\"/></a>"
      ]
    },
    {
      "cell_type": "code",
      "execution_count": null,
      "metadata": {
        "id": "IxWhJ8IJ3GK1"
      },
      "outputs": [],
      "source": [
        "import pandas as pd\n",
        "import numpy as np"
      ]
    },
    {
      "cell_type": "code",
      "source": [
        "students=['Patrick','Attankurugu','Azuma','Young']\n",
        "#But this is just a python list. To be able to get a pandas series of this list, let's pass the series aguement \n",
        "#as indicated in the cell below\n",
        "print(students)"
      ],
      "metadata": {
        "colab": {
          "base_uri": "https://localhost:8080/"
        },
        "id": "Qv0r_b0L3p4C",
        "outputId": "f02bff6b-868e-4813-8a43-757e7f5ef876"
      },
      "execution_count": null,
      "outputs": [
        {
          "output_type": "stream",
          "name": "stdout",
          "text": [
            "['Patrick', 'Attankurugu', 'Azuma', 'Young']\n"
          ]
        }
      ]
    },
    {
      "cell_type": "code",
      "source": [
        "pd.Series(students)\n",
        "#Now we have our list as a pandas Series"
      ],
      "metadata": {
        "colab": {
          "base_uri": "https://localhost:8080/"
        },
        "id": "jMENCp3-3s1_",
        "outputId": "ee055a7e-4e21-46b1-9824-86fbef972a69"
      },
      "execution_count": null,
      "outputs": [
        {
          "output_type": "execute_result",
          "data": {
            "text/plain": [
              "0        Patrick\n",
              "1    Attankurugu\n",
              "2          Azuma\n",
              "3          Young\n",
              "dtype: object"
            ]
          },
          "metadata": {},
          "execution_count": 18
        }
      ]
    },
    {
      "cell_type": "markdown",
      "source": [
        "A series is a one-dimensional sequence of values with associated labels"
      ],
      "metadata": {
        "id": "0gn5Yq5MJB8-"
      }
    },
    {
      "cell_type": "markdown",
      "source": [
        ""
      ],
      "metadata": {
        "id": "rISb3vIW4rAu"
      }
    },
    {
      "cell_type": "code",
      "source": [
        "ages=[20,30,2,58]\n",
        "pd.Series(ages)"
      ],
      "metadata": {
        "colab": {
          "base_uri": "https://localhost:8080/"
        },
        "id": "Eh78bdUr4lyy",
        "outputId": "00f59258-9aa4-46b3-f20e-b74a260b3210"
      },
      "execution_count": null,
      "outputs": [
        {
          "output_type": "execute_result",
          "data": {
            "text/plain": [
              "0    20\n",
              "1    30\n",
              "2     2\n",
              "3    58\n",
              "dtype: int64"
            ]
          },
          "metadata": {},
          "execution_count": 21
        }
      ]
    },
    {
      "cell_type": "code",
      "source": [
        "heights=[225.4,555.5,67.4,89.6]\n",
        "pd.Series(heights)"
      ],
      "metadata": {
        "colab": {
          "base_uri": "https://localhost:8080/"
        },
        "id": "KXYQHxdk_-8S",
        "outputId": "3adafe14-169a-46fd-e9ec-df505a70fa59"
      },
      "execution_count": null,
      "outputs": [
        {
          "output_type": "execute_result",
          "data": {
            "text/plain": [
              "0    225.4\n",
              "1    555.5\n",
              "2     67.4\n",
              "3     89.6\n",
              "dtype: float64"
            ]
          },
          "metadata": {},
          "execution_count": 22
        }
      ]
    },
    {
      "cell_type": "markdown",
      "source": [
        "Unlike Numpy's np.arrays, Pandas pd.Series supports mixed data types\n",
        "\n",
        "---\n",
        "\n"
      ],
      "metadata": {
        "id": "yBINswSsHmRn"
      }
    },
    {
      "cell_type": "code",
      "source": [
        ""
      ],
      "metadata": {
        "id": "JOlPBMSZIALq"
      },
      "execution_count": null,
      "outputs": []
    },
    {
      "cell_type": "markdown",
      "source": [
        ""
      ],
      "metadata": {
        "id": "IURj1j7vBuOJ"
      }
    },
    {
      "cell_type": "markdown",
      "source": [
        "Numpy arrays are more efficient than python list. It's so because numpy stores homogenious data types whilst python list by nature is designed to store all kinds of data in the same list"
      ],
      "metadata": {
        "id": "a8I0quAaBx0Y"
      }
    },
    {
      "cell_type": "code",
      "source": [
        "mixed=[True,'say',{'my_mood:100'}]"
      ],
      "metadata": {
        "id": "mGNn5BehH-so"
      },
      "execution_count": null,
      "outputs": []
    },
    {
      "cell_type": "code",
      "source": [
        "pd.Series(mixed)\n",
        "#Pandas did not complain, let's check for Numpy"
      ],
      "metadata": {
        "colab": {
          "base_uri": "https://localhost:8080/"
        },
        "id": "kfS0BQW_CFpo",
        "outputId": "dc923243-b979-4030-e2b4-eba57f8486fc"
      },
      "execution_count": null,
      "outputs": [
        {
          "output_type": "execute_result",
          "data": {
            "text/plain": [
              "0             True\n",
              "1              say\n",
              "2    {my_mood:100}\n",
              "dtype: object"
            ]
          },
          "metadata": {},
          "execution_count": 25
        }
      ]
    },
    {
      "cell_type": "code",
      "source": [
        "np.array(mixed)"
      ],
      "metadata": {
        "colab": {
          "base_uri": "https://localhost:8080/"
        },
        "id": "bQYjLKABIcZ2",
        "outputId": "714b65d0-5602-42a9-c4e3-bc8b2887fd45"
      },
      "execution_count": null,
      "outputs": [
        {
          "output_type": "execute_result",
          "data": {
            "text/plain": [
              "array([True, 'say', {'my_mood:100'}], dtype=object)"
            ]
          },
          "metadata": {},
          "execution_count": 26
        }
      ]
    },
    {
      "cell_type": "markdown",
      "source": [
        "Parameters Vs Aguements\n",
        "Parameters refers to the variables and aguements refers to the values that we pass to those variables. An example is indicated below.\n",
        "pd.Series(data=students)"
      ],
      "metadata": {
        "id": "wXef4NEDO2a-"
      }
    },
    {
      "cell_type": "code",
      "source": [
        "booksList=['Think and Grow Rich','The Richest man in Babylon','The Obstacle is the Way']"
      ],
      "metadata": {
        "id": "C7G8lN3dIlRN"
      },
      "execution_count": null,
      "outputs": []
    },
    {
      "cell_type": "code",
      "source": [
        "pd.Series(booksList)"
      ],
      "metadata": {
        "colab": {
          "base_uri": "https://localhost:8080/"
        },
        "id": "kXYBTQYTSb9t",
        "outputId": "46707976-87b1-4ef9-f7d4-385bf985a37d"
      },
      "execution_count": null,
      "outputs": [
        {
          "output_type": "execute_result",
          "data": {
            "text/plain": [
              "0           Think and Grow Rich\n",
              "1    The Richest man in Babylon\n",
              "2       The Obstacle is the Way\n",
              "dtype: object"
            ]
          },
          "metadata": {},
          "execution_count": 31
        }
      ]
    },
    {
      "cell_type": "code",
      "source": [
        "pd.Series(714)"
      ],
      "metadata": {
        "colab": {
          "base_uri": "https://localhost:8080/"
        },
        "id": "sZWZ8oSPSc0F",
        "outputId": "6ef544bb-c7c7-44e6-ef78-500fd8233b34"
      },
      "execution_count": null,
      "outputs": [
        {
          "output_type": "execute_result",
          "data": {
            "text/plain": [
              "0    714\n",
              "dtype: int64"
            ]
          },
          "metadata": {},
          "execution_count": 32
        }
      ]
    },
    {
      "cell_type": "markdown",
      "source": [
        "But we can get a bit more advanced and provide our own labels. let's do this"
      ],
      "metadata": {
        "id": "6TEqwgqebC1P"
      }
    },
    {
      "cell_type": "code",
      "source": [
        "pd.Series(data=booksList,index=['About finance','Also about finance','You have to break through'])\n",
        "#in this code, we change the labels of th data"
      ],
      "metadata": {
        "colab": {
          "base_uri": "https://localhost:8080/"
        },
        "id": "85e0uMEDY2Ix",
        "outputId": "a958a198-35dc-4e18-96c8-3b0135ae9e57"
      },
      "execution_count": null,
      "outputs": [
        {
          "output_type": "execute_result",
          "data": {
            "text/plain": [
              "About finance                       Think and Grow Rich\n",
              "Also about finance           The Richest man in Babylon\n",
              "You have to break through       The Obstacle is the Way\n",
              "dtype: object"
            ]
          },
          "metadata": {},
          "execution_count": 35
        }
      ]
    },
    {
      "cell_type": "markdown",
      "source": [
        "But we can also drop the parameters and use only the arguments straight away"
      ],
      "metadata": {
        "id": "gmsQ92LWcPJE"
      }
    },
    {
      "cell_type": "code",
      "source": [
        "pd.Series(booksList,['About finance','Also about finance','You have to break through'])\n"
      ],
      "metadata": {
        "colab": {
          "base_uri": "https://localhost:8080/"
        },
        "id": "7lE1ugE3bq2I",
        "outputId": "db24ddfb-5be9-4538-c340-74f61afa5510"
      },
      "execution_count": null,
      "outputs": [
        {
          "output_type": "execute_result",
          "data": {
            "text/plain": [
              "About finance                       Think and Grow Rich\n",
              "Also about finance           The Richest man in Babylon\n",
              "You have to break through       The Obstacle is the Way\n",
              "dtype: object"
            ]
          },
          "metadata": {},
          "execution_count": 36
        }
      ]
    },
    {
      "cell_type": "code",
      "source": [
        ""
      ],
      "metadata": {
        "id": "hBRElzqaca4S"
      },
      "execution_count": null,
      "outputs": []
    }
  ]
}